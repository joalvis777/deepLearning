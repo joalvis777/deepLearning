{
 "cells": [
  {
   "cell_type": "code",
   "execution_count": 5,
   "metadata": {},
   "outputs": [
    {
     "name": "stdout",
     "output_type": "stream",
     "text": [
      "0\n",
      "0\n",
      "0\n",
      "1\n"
     ]
    }
   ],
   "source": [
    "## 일반적인 퍼셉트론 구현 ## \n",
    "## w1*x1 + w2*x2 <= theta --> y=0\n",
    "## w1*x1 + w2*x2 > theta  --> y=1\n",
    "  \n",
    "import numpy as np\n",
    "\n",
    "# 함수 정의\n",
    "def AND(x1, x2):\n",
    "    w1, w2, theta = 0.5, 0.5, 0.7\n",
    "    tmp = x1*w1 + x2*w2             # tmp 변수는 임시적으로 사용할 변수\n",
    "    \n",
    "    if tmp <= theta:\n",
    "        return 0\n",
    "    if tmp > theta:\n",
    "        return 1\n",
    "\n",
    "# 함수 호출\n",
    "print(AND(0, 0))                    # False, False 일때)\n",
    "print(AND(1, 0))                    # True, False 일때\n",
    "print(AND(0, 1))                    # False, True 일때\n",
    "print(AND(1, 1))                    # True, True 일때"
   ]
  },
  {
   "cell_type": "code",
   "execution_count": 7,
   "metadata": {},
   "outputs": [
    {
     "data": {
      "text/plain": [
       "-0.19999999999999996"
      ]
     },
     "execution_count": 7,
     "metadata": {},
     "output_type": "execute_result"
    }
   ],
   "source": [
    "## 세타 대신 bias 도입 ## \n",
    "## theta = -b 로 치환\n",
    "## w1*x1 + w2*x2 + b <= 0 --> y=0\n",
    "## w1*x1 + w2*x2 + b > 0  --> y=1\n",
    "\n",
    "import numpy as np\n",
    "\n",
    "x = np.array([0, 1])       # 입력 신호\n",
    "w = np.array([0.5, 0.5])   # 가중치\n",
    "b = -0.7                   # bias\n",
    "\n",
    "w * x                      # 각 배열의 원소끼리 곱함 --> [0 * 1, 1 * 0.5] --> [0, 0.5]\n",
    "np.sum(w*x)                # np.sum(): 배열의 모든 원소를 더해라 --> 0 + 0.5 --> 0.5\n",
    "np.sum(w*x) + b\n",
    "    "
   ]
  },
  {
   "cell_type": "code",
   "execution_count": 10,
   "metadata": {},
   "outputs": [
    {
     "name": "stdout",
     "output_type": "stream",
     "text": [
      "(0, 0) -> 0\n",
      "(1, 0) -> 0\n",
      "(0, 1) -> 0\n",
      "(1, 1) -> 1\n"
     ]
    }
   ],
   "source": [
    "## AND 게이트 ##\n",
    "\n",
    "import numpy as np\n",
    "\n",
    "def AND(x1, x2):               # AND 함수, 변수 2개 (x1, x2)\n",
    "    x = np.array([x1, x2])     # x 넘파이 배열 -->  입력 신호\n",
    "    w = np.array([0.5, 0.5])   # w 넘파이 배열 --> 가중치\n",
    "    b = -0.7                   # 임계값: bias = -세타\n",
    "                               # w1x1 + w2x2 + b >= O     --> bias는 절편을 뜻함\n",
    "        \n",
    "    tmp = np.sum(w*x) + b      # w * x = [0.5x1, 0.5x2], np.sum을 하면 0.5x1 + 0.5x2가 되고, bias까지 더해주면 \n",
    "                               # 위의 w1x1 + w2x2 + b 랑 같아진다\n",
    "        \n",
    "    if tmp <= 0:               # w1x1 + w2x2 + b <= 0 --> 즉, 0.5x1 + 0.5x2 <= 0.7일 경우\n",
    "        return 0\n",
    "    else:\n",
    "        return 1               # w1x1 + w2x2 + b > 0 --> 즉, 0.5x1 + 0.5x2 > 0.7일 경우\n",
    "    \n",
    "if __name__ == '__main__':\n",
    "    for xs in [(0, 0), (1, 0), (0, 1), (1, 1)]:    # xs 에 (0, 0), (1, 0), (0, 1), (1, 1)를 차례대로 넣어라\n",
    "        y = AND(xs[0], xs[1])                      # y 에 AND(0, 0), AND(1, 0), AND(0, 1), AND(1, 1) 차례대로 넣어라\n",
    "        print(str(xs) + \" -> \" + str(y))           # 문자열로 바꿔서 두 개를 더하면 서로 이어 붙인다 \n",
    "\n",
    "## (0, 0)을 0.5x1 + 0.5x2 -0.7에 넣으면 -0.7이므로 0을 못넘음 --> return 0\n",
    "## (0, 1)을 0.5x1 + 0.5x2 -0.7에 넣으면 -0.2이므로 0을 못넘음 --> return 0\n",
    "## (1, 0)을 0.5x1 + 0.5x2 -0.7에 넣으면 -0.2이므로 0을 못넘음 --> return 0\n",
    "## (1, 1)을 0.5x1 + 0.5x2 -0.7에 넣으면 1이므로 0을 넘음      --> return 1"
   ]
  },
  {
   "cell_type": "code",
   "execution_count": 14,
   "metadata": {},
   "outputs": [
    {
     "name": "stdout",
     "output_type": "stream",
     "text": [
      "(0, 0) -> 1\n",
      "(1, 0) -> 1\n",
      "(0, 1) -> 1\n",
      "(1, 1) -> 0\n"
     ]
    }
   ],
   "source": [
    "## NAND 게이트 ##\n",
    "## 결과 AND와 반대로 나옴 \n",
    "\n",
    "import numpy as np \n",
    "\n",
    "def NAND(x1, x2):\n",
    "    x = np.array([x1, x2])      \n",
    "    w = np.array([-0.5, -0.5])  # AND게이트에 -를 곱해서 부등호 반대로 바꿈\n",
    "    b = 0.7                     # AND게이트에 -를 곱해서 부등호 반대로 바꿈\n",
    "    \n",
    "    tmp = np.sum(w*x) + b\n",
    "    if tmp <= 0:               \n",
    "        return 0\n",
    "    else:\n",
    "        return 1 \n",
    "    \n",
    "if __name__ == '__main__':\n",
    "    for xs in [(0, 0), (1, 0), (0, 1), (1, 1)]:   \n",
    "        y = NAND(xs[0], xs[1])                      \n",
    "        print(str(xs) + \" -> \" + str(y))"
   ]
  },
  {
   "cell_type": "code",
   "execution_count": 16,
   "metadata": {},
   "outputs": [
    {
     "name": "stdout",
     "output_type": "stream",
     "text": [
      "(0, 0) -> 0\n",
      "(1, 0) -> 1\n",
      "(0, 1) -> 1\n",
      "(1, 1) -> 1\n"
     ]
    }
   ],
   "source": [
    "## OR 게이트 ## \n",
    "## AND게이트와 가중치 같지만 임계값(문턱)을 낮춤 \n",
    "\n",
    "import numpy as np \n",
    "\n",
    "def OR(x1, x2):\n",
    "    x = np.array([x1, x2])      \n",
    "    w = np.array([0.5, 0.5])  # AND게이트에 -를 곱해서 부등호 반대로 바꿈\n",
    "    b = -0.2                     # AND게이트에 -를 곱해서 부등호 반대로 바꿈\n",
    "    \n",
    "    tmp = np.sum(w*x) + b\n",
    "    if tmp <= 0:               \n",
    "        return 0\n",
    "    else:\n",
    "        return 1\n",
    "    \n",
    "if __name__ == '__main__':\n",
    "    for xs in [(0, 0), (1, 0), (0, 1), (1, 1)]:   \n",
    "        y = OR(xs[0], xs[1])                      \n",
    "        print(str(xs) + \" -> \" + str(y))    "
   ]
  },
  {
   "cell_type": "code",
   "execution_count": null,
   "metadata": {},
   "outputs": [],
   "source": []
  }
 ],
 "metadata": {
  "kernelspec": {
   "display_name": "Python 3",
   "language": "python",
   "name": "python3"
  },
  "language_info": {
   "codemirror_mode": {
    "name": "ipython",
    "version": 3
   },
   "file_extension": ".py",
   "mimetype": "text/x-python",
   "name": "python",
   "nbconvert_exporter": "python",
   "pygments_lexer": "ipython3",
   "version": "3.8.5"
  }
 },
 "nbformat": 4,
 "nbformat_minor": 4
}
