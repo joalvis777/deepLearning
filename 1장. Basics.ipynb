{
 "cells": [
  {
   "cell_type": "code",
   "execution_count": 32,
   "metadata": {},
   "outputs": [],
   "source": [
    "## 리스트 ## --> 인덱스"
   ]
  },
  {
   "cell_type": "code",
   "execution_count": 33,
   "metadata": {},
   "outputs": [],
   "source": [
    "a = [1, 2, 3, 4, 5]"
   ]
  },
  {
   "cell_type": "code",
   "execution_count": 34,
   "metadata": {},
   "outputs": [
    {
     "name": "stdout",
     "output_type": "stream",
     "text": [
      "[1, 2, 3, 4, 5]\n"
     ]
    }
   ],
   "source": [
    "print(a)"
   ]
  },
  {
   "cell_type": "code",
   "execution_count": 35,
   "metadata": {},
   "outputs": [
    {
     "data": {
      "text/plain": [
       "5"
      ]
     },
     "execution_count": 35,
     "metadata": {},
     "output_type": "execute_result"
    }
   ],
   "source": [
    "len(a)"
   ]
  },
  {
   "cell_type": "code",
   "execution_count": 36,
   "metadata": {},
   "outputs": [
    {
     "data": {
      "text/plain": [
       "1"
      ]
     },
     "execution_count": 36,
     "metadata": {},
     "output_type": "execute_result"
    }
   ],
   "source": [
    "a[0]"
   ]
  },
  {
   "cell_type": "code",
   "execution_count": 37,
   "metadata": {},
   "outputs": [
    {
     "data": {
      "text/plain": [
       "5"
      ]
     },
     "execution_count": 37,
     "metadata": {},
     "output_type": "execute_result"
    }
   ],
   "source": [
    "a[4]"
   ]
  },
  {
   "cell_type": "code",
   "execution_count": 38,
   "metadata": {},
   "outputs": [],
   "source": [
    "a[4] = 100"
   ]
  },
  {
   "cell_type": "code",
   "execution_count": 39,
   "metadata": {},
   "outputs": [
    {
     "name": "stdout",
     "output_type": "stream",
     "text": [
      "[1, 2, 3, 4, 100]\n"
     ]
    }
   ],
   "source": [
    "print(a)"
   ]
  },
  {
   "cell_type": "code",
   "execution_count": 40,
   "metadata": {},
   "outputs": [
    {
     "data": {
      "text/plain": [
       "[1, 2]"
      ]
     },
     "execution_count": 40,
     "metadata": {},
     "output_type": "execute_result"
    }
   ],
   "source": [
    "a[0:2]    # 리스트 슬라이싱 --> 리스트 일부분 출력 (0번째 인덱스 ~ 2번째 인덱스 전까지)"
   ]
  },
  {
   "cell_type": "code",
   "execution_count": 41,
   "metadata": {},
   "outputs": [
    {
     "data": {
      "text/plain": [
       "[2, 3, 4, 100]"
      ]
     },
     "execution_count": 41,
     "metadata": {},
     "output_type": "execute_result"
    }
   ],
   "source": [
    "a[1:]    # 1번째 인덱스부터 끝까지 출력"
   ]
  },
  {
   "cell_type": "code",
   "execution_count": 42,
   "metadata": {},
   "outputs": [
    {
     "data": {
      "text/plain": [
       "[1, 2, 3]"
      ]
     },
     "execution_count": 42,
     "metadata": {},
     "output_type": "execute_result"
    }
   ],
   "source": [
    "a[:3]    # 처음부터 3번째 인덱스 전까지 출력 "
   ]
  },
  {
   "cell_type": "code",
   "execution_count": 43,
   "metadata": {},
   "outputs": [
    {
     "data": {
      "text/plain": [
       "[1, 2, 3, 4]"
      ]
     },
     "execution_count": 43,
     "metadata": {},
     "output_type": "execute_result"
    }
   ],
   "source": [
    "a[:-1]    # 처음부터 마지막 인덱스 전까지 출력 (-1은 마지막 원소)"
   ]
  },
  {
   "cell_type": "code",
   "execution_count": 44,
   "metadata": {},
   "outputs": [
    {
     "data": {
      "text/plain": [
       "[1, 2, 3]"
      ]
     },
     "execution_count": 44,
     "metadata": {},
     "output_type": "execute_result"
    }
   ],
   "source": [
    "a[:-2]    # 처음부터 마지막 인덱스 전전까지 출력 (-2는 끝에서 한 개 앞의 원소)"
   ]
  },
  {
   "cell_type": "code",
   "execution_count": 62,
   "metadata": {},
   "outputs": [],
   "source": [
    "#========================================================================================================================#"
   ]
  },
  {
   "cell_type": "code",
   "execution_count": 63,
   "metadata": {},
   "outputs": [],
   "source": [
    "## 딕셔너리 ## --> 키(key)와 값(value)을 한 쌍으로 저장 "
   ]
  },
  {
   "cell_type": "code",
   "execution_count": 64,
   "metadata": {},
   "outputs": [],
   "source": [
    "me = {'height':180}    # 딕셔너리 생성"
   ]
  },
  {
   "cell_type": "code",
   "execution_count": 65,
   "metadata": {},
   "outputs": [
    {
     "data": {
      "text/plain": [
       "180"
      ]
     },
     "execution_count": 65,
     "metadata": {},
     "output_type": "execute_result"
    }
   ],
   "source": [
    "me['height']           # 해당 key가 갖고있는 값 출력"
   ]
  },
  {
   "cell_type": "code",
   "execution_count": 66,
   "metadata": {},
   "outputs": [],
   "source": [
    "me['weight'] = 60      # 새로운 원소 추가 "
   ]
  },
  {
   "cell_type": "code",
   "execution_count": 67,
   "metadata": {},
   "outputs": [
    {
     "name": "stdout",
     "output_type": "stream",
     "text": [
      "{'height': 180, 'weight': 60}\n"
     ]
    }
   ],
   "source": [
    "print(me)              # 추가된 항목 확인"
   ]
  },
  {
   "cell_type": "code",
   "execution_count": 61,
   "metadata": {},
   "outputs": [],
   "source": [
    "#========================================================================================================================#"
   ]
  },
  {
   "cell_type": "code",
   "execution_count": 69,
   "metadata": {},
   "outputs": [],
   "source": [
    "## bool 자료형 ## --> 참/거짓, and/or,not 연산자 "
   ]
  },
  {
   "cell_type": "code",
   "execution_count": 72,
   "metadata": {},
   "outputs": [],
   "source": [
    "hungry = True    # 배가 고프다\n",
    "sleepy = False   # 졸리지 않다"
   ]
  },
  {
   "cell_type": "code",
   "execution_count": 76,
   "metadata": {},
   "outputs": [
    {
     "data": {
      "text/plain": [
       "bool"
      ]
     },
     "execution_count": 76,
     "metadata": {},
     "output_type": "execute_result"
    }
   ],
   "source": [
    "type(hungry)     # bool 자료형 확인\n",
    "type(sleepy)"
   ]
  },
  {
   "cell_type": "code",
   "execution_count": 82,
   "metadata": {},
   "outputs": [
    {
     "data": {
      "text/plain": [
       "False"
      ]
     },
     "execution_count": 82,
     "metadata": {},
     "output_type": "execute_result"
    }
   ],
   "source": [
    "not hungry"
   ]
  },
  {
   "cell_type": "code",
   "execution_count": 85,
   "metadata": {},
   "outputs": [
    {
     "data": {
      "text/plain": [
       "False"
      ]
     },
     "execution_count": 85,
     "metadata": {},
     "output_type": "execute_result"
    }
   ],
   "source": [
    "hungry and sleepy    # 배가 고프고 졸리지 않다 "
   ]
  },
  {
   "cell_type": "code",
   "execution_count": 87,
   "metadata": {},
   "outputs": [
    {
     "data": {
      "text/plain": [
       "True"
      ]
     },
     "execution_count": 87,
     "metadata": {},
     "output_type": "execute_result"
    }
   ],
   "source": [
    "hungry or sleepy     # 배가 고프거나 졸리지 않다 "
   ]
  },
  {
   "cell_type": "code",
   "execution_count": null,
   "metadata": {},
   "outputs": [],
   "source": [
    "#========================================================================================================================#"
   ]
  },
  {
   "cell_type": "code",
   "execution_count": 88,
   "metadata": {},
   "outputs": [],
   "source": [
    "## if/else 문 ## "
   ]
  },
  {
   "cell_type": "code",
   "execution_count": 1,
   "metadata": {},
   "outputs": [
    {
     "name": "stdout",
     "output_type": "stream",
     "text": [
      "I'm hungry\n"
     ]
    }
   ],
   "source": [
    "hungry = True\n",
    "if hungry: \n",
    "    print(\"I'm hungry\")"
   ]
  },
  {
   "cell_type": "code",
   "execution_count": 2,
   "metadata": {},
   "outputs": [
    {
     "name": "stdout",
     "output_type": "stream",
     "text": [
      "I'm not hungry\n"
     ]
    }
   ],
   "source": [
    "hungry = False\n",
    "if not hungry:\n",
    "    print(\"I'm not hungry\")"
   ]
  },
  {
   "cell_type": "code",
   "execution_count": 5,
   "metadata": {},
   "outputs": [
    {
     "name": "stdout",
     "output_type": "stream",
     "text": [
      "I'm not hugnry\n",
      "I'm sleepy\n"
     ]
    }
   ],
   "source": [
    "if hungry: \n",
    "    print(\"I'm hungry\")\n",
    "else:\n",
    "    print(\"I'm not hugnry\")\n",
    "    print(\"I'm sleepy\")"
   ]
  },
  {
   "cell_type": "code",
   "execution_count": 6,
   "metadata": {},
   "outputs": [],
   "source": [
    "#========================================================================================================================#"
   ]
  },
  {
   "cell_type": "code",
   "execution_count": 7,
   "metadata": {},
   "outputs": [],
   "source": [
    "## for 문 ## "
   ]
  },
  {
   "cell_type": "code",
   "execution_count": 8,
   "metadata": {},
   "outputs": [
    {
     "name": "stdout",
     "output_type": "stream",
     "text": [
      "1\n",
      "2\n",
      "3\n"
     ]
    }
   ],
   "source": [
    "for i in [1, 2, 3]:\n",
    "    print(i)"
   ]
  },
  {
   "cell_type": "code",
   "execution_count": 10,
   "metadata": {},
   "outputs": [
    {
     "name": "stdout",
     "output_type": "stream",
     "text": [
      "안\n",
      "녕\n",
      "하\n",
      "세\n",
      "요\n"
     ]
    }
   ],
   "source": [
    "hi = \"안녕하세요\"\n",
    "for i in hi:\n",
    "    print(i)"
   ]
  },
  {
   "cell_type": "code",
   "execution_count": 7,
   "metadata": {},
   "outputs": [
    {
     "name": "stdout",
     "output_type": "stream",
     "text": [
      "n\n",
      "o\n",
      "h\n",
      "t\n",
      "y\n",
      "p\n"
     ]
    }
   ],
   "source": [
    "for i in reversed(\"python\"):    # reversed() : 객체를 거꾸로 뒤집어줌\n",
    "    print(i)"
   ]
  },
  {
   "cell_type": "code",
   "execution_count": 11,
   "metadata": {},
   "outputs": [
    {
     "name": "stdout",
     "output_type": "stream",
     "text": [
      "피자\n",
      "비빔밥\n",
      "냉면\n"
     ]
    }
   ],
   "source": [
    "tuple_food = (\"피자\", \"비빔밥\", \"냉면\")\n",
    "for food in tuple_food: \n",
    "    print(food)"
   ]
  },
  {
   "cell_type": "code",
   "execution_count": 22,
   "metadata": {},
   "outputs": [
    {
     "name": "stdout",
     "output_type": "stream",
     "text": [
      "반복 0\n",
      "반복 1\n",
      "반복 2\n",
      "반복 3\n"
     ]
    }
   ],
   "source": [
    "for i in range(4):    # 0부터 3까지 반복\n",
    "    print(\"반복\", i)"
   ]
  },
  {
   "cell_type": "code",
   "execution_count": 27,
   "metadata": {},
   "outputs": [
    {
     "name": "stdout",
     "output_type": "stream",
     "text": [
      "반복 5\n",
      "반복 6\n",
      "반복 7\n",
      "반복 8\n",
      "반복 9\n",
      "반복 10\n",
      "반복 11\n"
     ]
    }
   ],
   "source": [
    "for i in range(5, 12):    # 5부터 11까지 반복\n",
    "    print(\"반복\", i)"
   ]
  },
  {
   "cell_type": "code",
   "execution_count": 29,
   "metadata": {},
   "outputs": [
    {
     "name": "stdout",
     "output_type": "stream",
     "text": [
      "반복 0\n",
      "반복 2\n",
      "반복 4\n",
      "반복 6\n",
      "반복 8\n"
     ]
    }
   ],
   "source": [
    "for i in range(0, 10, 2):    # 0부터 9까지 2씩 증가\n",
    "    print(\"반복\", i)"
   ]
  },
  {
   "cell_type": "code",
   "execution_count": 30,
   "metadata": {},
   "outputs": [
    {
     "name": "stdout",
     "output_type": "stream",
     "text": [
      "반복 10\n",
      "반복 9\n",
      "반복 8\n",
      "반복 7\n",
      "반복 6\n",
      "반복 5\n",
      "반복 4\n",
      "반복 3\n",
      "반복 2\n",
      "반복 1\n"
     ]
    }
   ],
   "source": [
    "for i in range(10, 0, -1):    # 10부터 1까지 1씩 감소\n",
    "    print(\"반복\", i)"
   ]
  },
  {
   "cell_type": "code",
   "execution_count": 1,
   "metadata": {},
   "outputs": [
    {
     "name": "stdout",
     "output_type": "stream",
     "text": [
      "반복할 횟수 설정: 3\n",
      "반복 0\n",
      "반복 1\n",
      "반복 2\n"
     ]
    }
   ],
   "source": [
    "number = int(input('반복할 횟수 설정: '))    # 입력한 횟수대로 반복\n",
    "for i in range(number): \n",
    "    print(\"반복\", i)"
   ]
  },
  {
   "cell_type": "code",
   "execution_count": 10,
   "metadata": {},
   "outputs": [],
   "source": [
    "#========================================================================================================================#"
   ]
  },
  {
   "cell_type": "code",
   "execution_count": 11,
   "metadata": {},
   "outputs": [],
   "source": [
    "## 함수 ## "
   ]
  },
  {
   "cell_type": "code",
   "execution_count": 13,
   "metadata": {},
   "outputs": [
    {
     "name": "stdout",
     "output_type": "stream",
     "text": [
      "Hello!\n"
     ]
    }
   ],
   "source": [
    "def hello():\n",
    "    print(\"Hello!\")\n",
    "    \n",
    "hello()"
   ]
  },
  {
   "cell_type": "code",
   "execution_count": 15,
   "metadata": {},
   "outputs": [
    {
     "name": "stdout",
     "output_type": "stream",
     "text": [
      "Hello alvis!\n"
     ]
    }
   ],
   "source": [
    "def hello(obj):\n",
    "    print(\"Hello \" + obj + \"!\")\n",
    "    \n",
    "hello(\"alvis\")"
   ]
  },
  {
   "cell_type": "code",
   "execution_count": 17,
   "metadata": {},
   "outputs": [
    {
     "name": "stdout",
     "output_type": "stream",
     "text": [
      "40\n"
     ]
    }
   ],
   "source": [
    "def add(num1, num2):    # 덧셈 함수 만들기\n",
    "    print(num1 + num2)  # 함수 안에서 2개의 매개변수의 합 출력 \n",
    "\n",
    "add(10, 30)"
   ]
  },
  {
   "cell_type": "code",
   "execution_count": 28,
   "metadata": {},
   "outputs": [
    {
     "name": "stdout",
     "output_type": "stream",
     "text": [
      "60\n"
     ]
    }
   ],
   "source": [
    "def add_return(num1, num2):    # 함수의 결과 반환하기 --> 함수의 값을 밖으로 꺼내기 \n",
    "    return num1 + num2\n",
    "\n",
    "x = add_return(20, 40)         # 함수의 결과 x에 저장 후 출력\n",
    "x"
   ]
  },
  {
   "cell_type": "code",
   "execution_count": 29,
   "metadata": {},
   "outputs": [
    {
     "data": {
      "text/plain": [
       "1"
      ]
     },
     "execution_count": 29,
     "metadata": {},
     "output_type": "execute_result"
    }
   ],
   "source": [
    "def one():              # 매개변수 없이 반환값만 있는 함수 \n",
    "    return 1\n",
    "\n",
    "one()"
   ]
  },
  {
   "cell_type": "code",
   "execution_count": 36,
   "metadata": {},
   "outputs": [
    {
     "name": "stdout",
     "output_type": "stream",
     "text": [
      "1 입니다\n",
      "5 입니다\n"
     ]
    }
   ],
   "source": [
    "def not_ten(num):       # 매개변수가 10일 경우 함수 중간에서 빠져나오기  \n",
    "    if num == 10:\n",
    "        return \n",
    "    print(num, '입니다', sep=' ')  \n",
    "\n",
    "not_ten(1)\n",
    "not_ten(5)\n",
    "not_ten(10)"
   ]
  },
  {
   "cell_type": "code",
   "execution_count": 40,
   "metadata": {},
   "outputs": [
    {
     "data": {
      "text/plain": [
       "(100, 98)"
      ]
     },
     "execution_count": 40,
     "metadata": {},
     "output_type": "execute_result"
    }
   ],
   "source": [
    "def add_sub(num1, num2):                 # 함수에서 값을 여러 개 반환하기 \n",
    "    return (num1 + num2), (num1 - num2)  # 두 수를 더한 값과 뺀 값을 반환하는 함수 \n",
    "\n",
    "x, y = add_sub(99, 1)                   # 합을 x에, 차를 y에 저장\n",
    "x, y"
   ]
  },
  {
   "cell_type": "code",
   "execution_count": 41,
   "metadata": {},
   "outputs": [],
   "source": [
    "#========================================================================================================================#"
   ]
  },
  {
   "cell_type": "code",
   "execution_count": 42,
   "metadata": {},
   "outputs": [],
   "source": [
    "## 재귀호출 ## --> 함수 안에서 자기 자신을 호출하는 방식"
   ]
  },
  {
   "cell_type": "code",
   "execution_count": 46,
   "metadata": {},
   "outputs": [
    {
     "name": "stdout",
     "output_type": "stream",
     "text": [
      "Hello! 5\n",
      "Hello! 4\n",
      "Hello! 3\n",
      "Hello! 2\n",
      "Hello! 1\n"
     ]
    }
   ],
   "source": [
    "def hello(count):\n",
    "    if count == 0:           # 호출 종료 조건 --> count가 0일 경우 hello 함수를 호출하지 않고 끝냄\n",
    "        return\n",
    "    print(\"Hello!\", count)\n",
    "    \n",
    "    count -= 1               # count 1 감소 후 \n",
    "    hello(count)             # 다시 hello 함수에 넣음\n",
    "    \n",
    "hello(5)"
   ]
  },
  {
   "cell_type": "code",
   "execution_count": 55,
   "metadata": {},
   "outputs": [
    {
     "name": "stdout",
     "output_type": "stream",
     "text": [
      "120\n"
     ]
    }
   ],
   "source": [
    "def factorial(num):\n",
    "    if num == 1:\n",
    "        return 1\n",
    "    return num * factorial(num-1)\n",
    "\n",
    "print(factorial(5))"
   ]
  },
  {
   "cell_type": "code",
   "execution_count": 1,
   "metadata": {},
   "outputs": [],
   "source": [
    "#========================================================================================================================#"
   ]
  },
  {
   "cell_type": "code",
   "execution_count": 2,
   "metadata": {},
   "outputs": [],
   "source": [
    "## 클래스 ##"
   ]
  },
  {
   "cell_type": "code",
   "execution_count": 4,
   "metadata": {},
   "outputs": [
    {
     "name": "stdout",
     "output_type": "stream",
     "text": [
      "Hello\n"
     ]
    }
   ],
   "source": [
    "## 클래스에서 메서드 만들고 호출하기 ## \n",
    "class Person:              # class 클래스이름:\n",
    "    def greeting(self):    #    def 메서드(self):\n",
    "        print('Hello')     #        코드 \n",
    "\n",
    "james = Person()           # james      : 인스턴스 \n",
    "james.greeting()           # greeting() : 인스턴스 메서드 --> 인스턴스를 통해 호출하는 메서드 --> 메서드는 클래스가 \n",
    "                           #                                                                  아닌 메서드를 통해 호출"
   ]
  },
  {
   "cell_type": "code",
   "execution_count": 8,
   "metadata": {},
   "outputs": [
    {
     "name": "stdout",
     "output_type": "stream",
     "text": [
      "고양이 이름은 나비 색깔은 검정색\n"
     ]
    }
   ],
   "source": [
    "## 인스턴스 변수(속성) 만들기\n",
    "class Cat:\n",
    "    def info(self):\n",
    "        self.name = \"나비\"      # 인스턴스 변수 name\n",
    "        self.color = \"검정색\"   # 인스턴스 변수 color \n",
    "        print('고양이 이름은', self.name, '색깔은', self.color, sep=' ')\n",
    "\n",
    "cat = Cat()\n",
    "cat.info()"
   ]
  },
  {
   "cell_type": "code",
   "execution_count": 24,
   "metadata": {},
   "outputs": [
    {
     "name": "stdout",
     "output_type": "stream",
     "text": [
      "AAA 클래스 선언!\n"
     ]
    }
   ],
   "source": [
    "## __init__ 함수 (생성자) ## \n",
    "\n",
    "class AAA:\n",
    "    def __init__(self):           ## __init__ 함수는 인스턴스 생성 시 자동실행 되는 메서드    \n",
    "        print(\"AAA 클래스 선언!\")\n",
    "        \n",
    "aaa = AAA()\n",
    "\n",
    "# 파이썬은 클래스에서 사용하는 함수의 첫번째 인자(parameter)를 self로 사용하는 것이 원칙이다 "
   ]
  },
  {
   "cell_type": "code",
   "execution_count": 25,
   "metadata": {},
   "outputs": [
    {
     "name": "stdout",
     "output_type": "stream",
     "text": [
      "BBB 클래스 선언\n"
     ]
    }
   ],
   "source": [
    "class BBB: \n",
    "    def __init__(self):           ## init 함수만 실행\n",
    "        print(\"BBB 클래스 선언\")\n",
    "    def show(self):               ## show 함수는 실행 안됨!!\n",
    "        print(\"show 함수 실행!\")\n",
    "        \n",
    "bbb = BBB()"
   ]
  },
  {
   "cell_type": "code",
   "execution_count": 31,
   "metadata": {},
   "outputs": [
    {
     "name": "stdout",
     "output_type": "stream",
     "text": [
      "이름: 홍길동\n",
      "나이: 23\n",
      "나의 이름은 홍길동, 나이는 23세 입니다.\n"
     ]
    }
   ],
   "source": [
    "## self ##\n",
    "\n",
    "\n",
    "# self: 클래스의 인스턴스를 지칭하는 것 \n",
    "# 클래스로 인스턴스를 생성하는데 클래스 내부에서 인스턴스를 지칭하는 방법.\n",
    "# self 키워드를 통해 클래스의 메서드와 속성에 접근할 수 있다. \n",
    "# 파이썬에서 모든 메서드는 첫 번째 매개변수로 자기 자신을 가리키는 self 변수를 갖는다. 즉, 해당 메서드를 호출한 객체를 의미.\n",
    "\n",
    "class ABC:\n",
    "    def __init__(self):\n",
    "        self.name = input(\"이름: \")\n",
    "        self.age =  input(\"나이: \")\n",
    "    def show(self):\n",
    "        print('나의 이름은 {}, 나이는 {}세 입니다.'.format(self.name, self.age))\n",
    "        \n",
    "a = ABC()    # a        --> __init__(self)의 self에 해당\n",
    "\n",
    "             # a.name   --> self.name 에 해당\n",
    "             # a.age    --> self.age 에 해당\n",
    "a.show()"
   ]
  },
  {
   "cell_type": "code",
   "execution_count": 33,
   "metadata": {},
   "outputs": [
    {
     "name": "stdout",
     "output_type": "stream",
     "text": [
      "이름은 네로 색깔은 검정색\n",
      "이름은 미미 색깔은 빨간색\n"
     ]
    }
   ],
   "source": [
    "## 인스턴스를 만들 때 값 받기 1 ## \n",
    "class Cat: \n",
    "    def __init__(self, name, color):  # 생성자 or 초기화 메서드 \n",
    "        self.name = name\n",
    "        self.color = color\n",
    "    \n",
    "    def info(self):                   # Cat 클래스 정보를 출력하는 메서드\n",
    "        print('이름은', self.name, '색깔은', self.color, sep=' ')\n",
    "\n",
    "cat1 = Cat('네로', '검정색')\n",
    "cat2 = Cat('미미', '빨간색')\n",
    "\n",
    "cat1.info()\n",
    "cat2.info()"
   ]
  },
  {
   "cell_type": "code",
   "execution_count": 43,
   "metadata": {},
   "outputs": [
    {
     "name": "stdout",
     "output_type": "stream",
     "text": [
      "안녕하세요 저는 24살 송파구에 거주중인 마리아 입니다.\n"
     ]
    }
   ],
   "source": [
    "## 인스턴스를 만들 때 값 받기 2 ## \n",
    "class Person:\n",
    "    def __init__(self, name, age, address):\n",
    "        self.hello = '안녕하세요'\n",
    "        self.name = name\n",
    "        self.age = age\n",
    "        self.address = address\n",
    "        \n",
    "    def greeting(self):\n",
    "        print('{1} 저는 {0}살 {3}에 거주중인 {2} 입니다.'.format(self.age, self.hello, self.name, self.address))\n",
    "        \n",
    "maria = Person('마리아', 24, '송파구')      # '마리아'  --> def __init__(self, name, age, address) 에서 name에 해당\n",
    "                                           # '24'     --> def __init__(self, name, age, address) 에서 age에 해당\n",
    "                                           # '송파구'  --> def __init__(self, name, age, address) 에서 address에 해당\n",
    "maria.greeting()"
   ]
  },
  {
   "cell_type": "code",
   "execution_count": 46,
   "metadata": {},
   "outputs": [
    {
     "name": "stdout",
     "output_type": "stream",
     "text": [
      "존\n"
     ]
    },
    {
     "ename": "AttributeError",
     "evalue": "'Person' object has no attribute 'name'",
     "output_type": "error",
     "traceback": [
      "\u001b[1;31m---------------------------------------------------------------------------\u001b[0m",
      "\u001b[1;31mAttributeError\u001b[0m                            Traceback (most recent call last)",
      "\u001b[1;32m<ipython-input-46-4517048ecc95>\u001b[0m in \u001b[0;36m<module>\u001b[1;34m\u001b[0m\n\u001b[0;32m     12\u001b[0m \u001b[1;33m\u001b[0m\u001b[0m\n\u001b[0;32m     13\u001b[0m \u001b[0memily\u001b[0m \u001b[1;33m=\u001b[0m \u001b[0mPerson\u001b[0m\u001b[1;33m(\u001b[0m\u001b[1;33m)\u001b[0m\u001b[1;33m\u001b[0m\u001b[1;33m\u001b[0m\u001b[0m\n\u001b[1;32m---> 14\u001b[1;33m \u001b[0memily\u001b[0m\u001b[1;33m.\u001b[0m\u001b[0mname\u001b[0m\u001b[1;33m\u001b[0m\u001b[1;33m\u001b[0m\u001b[0m\n\u001b[0m",
      "\u001b[1;31mAttributeError\u001b[0m: 'Person' object has no attribute 'name'"
     ]
    }
   ],
   "source": [
    "## 인스턴스를 생성한 뒤 속성 추가하기 or 특정 속성만 허용하기 ## \n",
    "class Person:     # 비어있는 Person 클래스\n",
    "    pass\n",
    "\n",
    "john = Person()   # 인스턴스 생성 후 \n",
    "john.name = '존'  # name 속성 추가\n",
    "\n",
    "john.name\n",
    "\n",
    "## 이렇게 나중에 추가한 속성의 경우 해당 인스턴스에만 생성된다. \n",
    "## 따라서 클래스로 다른 인스턴스를 만들었을 때는 추가한 속성이 생성되지 않음.\n",
    "\n",
    "emily = Person()\n",
    "emily.name # 오류! "
   ]
  },
  {
   "cell_type": "code",
   "execution_count": 47,
   "metadata": {
    "scrolled": true
   },
   "outputs": [
    {
     "ename": "AttributeError",
     "evalue": "'Person' object has no attribute 'hello'",
     "output_type": "error",
     "traceback": [
      "\u001b[1;31m---------------------------------------------------------------------------\u001b[0m",
      "\u001b[1;31mAttributeError\u001b[0m                            Traceback (most recent call last)",
      "\u001b[1;32m<ipython-input-47-e52d5acdb833>\u001b[0m in \u001b[0;36m<module>\u001b[1;34m\u001b[0m\n\u001b[0;32m      4\u001b[0m \u001b[1;33m\u001b[0m\u001b[0m\n\u001b[0;32m      5\u001b[0m \u001b[0mmaria\u001b[0m \u001b[1;33m=\u001b[0m \u001b[0mPerson\u001b[0m\u001b[1;33m(\u001b[0m\u001b[1;33m)\u001b[0m\u001b[1;33m\u001b[0m\u001b[1;33m\u001b[0m\u001b[0m\n\u001b[1;32m----> 6\u001b[1;33m \u001b[0mmaria\u001b[0m\u001b[1;33m.\u001b[0m\u001b[0mhello\u001b[0m\u001b[1;33m\u001b[0m\u001b[1;33m\u001b[0m\u001b[0m\n\u001b[0m",
      "\u001b[1;31mAttributeError\u001b[0m: 'Person' object has no attribute 'hello'"
     ]
    }
   ],
   "source": [
    "# _init__ 메서드가 아닌 다른 메서드에서도 속성을 추가할 수 있다. 단 이때는 메서드를 미리 호출해야 속성이 생성됨\n",
    "\n",
    "class Person:\n",
    "    def greeting(self):\n",
    "        self.hello = '안녕하세요'\n",
    "\n",
    "maria = Person()\n",
    "maria.hello\n",
    "\n"
   ]
  },
  {
   "cell_type": "code",
   "execution_count": 49,
   "metadata": {},
   "outputs": [
    {
     "data": {
      "text/plain": [
       "'안녕하세요'"
      ]
     },
     "execution_count": 49,
     "metadata": {},
     "output_type": "execute_result"
    }
   ],
   "source": [
    "class Person:\n",
    "    def greeting(self):\n",
    "        self.hello = '안녕하세요'\n",
    "\n",
    "maria = Person()\n",
    "maria.greeting()\n",
    "maria.hello"
   ]
  },
  {
   "cell_type": "code",
   "execution_count": 52,
   "metadata": {},
   "outputs": [
    {
     "ename": "AttributeError",
     "evalue": "'Person' object has no attribute 'wallet'",
     "output_type": "error",
     "traceback": [
      "\u001b[1;31m---------------------------------------------------------------------------\u001b[0m",
      "\u001b[1;31mAttributeError\u001b[0m                            Traceback (most recent call last)",
      "\u001b[1;32m<ipython-input-52-53205944b946>\u001b[0m in \u001b[0;36m<module>\u001b[1;34m\u001b[0m\n\u001b[0;32m     13\u001b[0m \u001b[1;33m\u001b[0m\u001b[0m\n\u001b[0;32m     14\u001b[0m \u001b[0mmaria\u001b[0m \u001b[1;33m=\u001b[0m \u001b[0mPerson\u001b[0m\u001b[1;33m(\u001b[0m\u001b[1;34m'마리아'\u001b[0m\u001b[1;33m,\u001b[0m \u001b[1;36m25\u001b[0m\u001b[1;33m,\u001b[0m \u001b[1;34m'강남구'\u001b[0m\u001b[1;33m,\u001b[0m \u001b[1;34m'10000'\u001b[0m\u001b[1;33m)\u001b[0m\u001b[1;33m\u001b[0m\u001b[1;33m\u001b[0m\u001b[0m\n\u001b[1;32m---> 15\u001b[1;33m \u001b[0mmaria\u001b[0m\u001b[1;33m.\u001b[0m\u001b[0mwallet\u001b[0m   \u001b[1;31m# 오류 발생 --> Person 클래스가 wallet이라는 속성을 갖고 있지 않다고 함\u001b[0m\u001b[1;33m\u001b[0m\u001b[1;33m\u001b[0m\u001b[0m\n\u001b[0m\u001b[0;32m     16\u001b[0m                \u001b[1;31m# 클래스 밖에서 maria.wallet으로 접근할 수 없음\u001b[0m\u001b[1;33m\u001b[0m\u001b[1;33m\u001b[0m\u001b[1;33m\u001b[0m\u001b[0m\n",
      "\u001b[1;31mAttributeError\u001b[0m: 'Person' object has no attribute 'wallet'"
     ]
    }
   ],
   "source": [
    "## 비공개 속성 사용하기 ## \n",
    "# 앞에서 사용한 Person 클래스에는 hello, name, age, address 속성이 있었는데\n",
    "# 이들은 메서드에서 self로 접근할 수 있고, '인스턴스.속성' 형식으로 클래스 바깥에서도 접근할 수 있었다 \n",
    "# 이번에는 클래스 밖에서는 접근할 수 업고 클래스 내부에서만 사용할 수 있는 비공개 속성을 만들어보자\n",
    "\n",
    "# 비공개 속성은 '__속성이름' 의 형식을 갖는다\n",
    "class Person:\n",
    "    def __init__(self, name, age, address, wallet):\n",
    "        self.name = name\n",
    "        self.age = age\n",
    "        self.address = address\n",
    "        self.__wallet = wallet   # 비공개 속성\n",
    "\n",
    "maria = Person('마리아', 25, '강남구', '10000')\n",
    "maria.wallet   # 오류 발생 --> Person 클래스가 wallet이라는 속성을 갖고 있지 않다고 함\n",
    "               # 클래스 밖에서 maria.wallet으로 접근할 수 없음"
   ]
  },
  {
   "cell_type": "code",
   "execution_count": 55,
   "metadata": {},
   "outputs": [
    {
     "name": "stdout",
     "output_type": "stream",
     "text": [
      "이제 7000원 남았습니다\n"
     ]
    }
   ],
   "source": [
    "class Person:\n",
    "    def __init__(self, name, age, address, wallet):\n",
    "        self.name = name\n",
    "        self.age = age\n",
    "        self.address = address\n",
    "        self.__wallet = wallet   # 비공개 속성 --> 지갑 잔고\n",
    "    \n",
    "    def pay(self, amount):       # 돈을 내면 해당 금액만큼 지갑에서 빼는 메서드\n",
    "        self.__wallet -= amount\n",
    "        print('이제 {}원 남았습니다'.format(self.__wallet)) # 남은 잔고를 출력하는 메서드 \n",
    "\n",
    "maria = Person('마리아', 25, '강남구', 10000)\n",
    "maria.pay(3000)"
   ]
  },
  {
   "cell_type": "code",
   "execution_count": 62,
   "metadata": {},
   "outputs": [
    {
     "name": "stdout",
     "output_type": "stream",
     "text": [
      "돈이 모자랍니다...\n",
      "이제 8000원 남았습니다\n"
     ]
    }
   ],
   "source": [
    "# 사용하려고 하는 금액이 잔고보다 많을 경우 메시지를 표시해주자! \n",
    "\n",
    "class Person:\n",
    "    def __init__(self, name, age, address, wallet):\n",
    "        self.name = name\n",
    "        self.age = age\n",
    "        self.address = address\n",
    "        self.__wallet = wallet         # 비공개 속성 --> 지갑 잔고\n",
    "    \n",
    "    def pay(self, amount):       \n",
    "        if amount > self.__wallet:     # 지불하려는 금액과 잔고를 확인하는 if문\n",
    "            print('돈이 모자랍니다...')\n",
    "        else:\n",
    "            self.__wallet -= amount\n",
    "            print('이제 {}원 남았습니다'.format(self.__wallet)) # 남은 잔고를 출력하는 메서드 \n",
    "        \n",
    "maria = Person('마리아', 25, '강남구', 10000)\n",
    "maria.pay(15000)\n",
    "maria.pay(2000)"
   ]
  },
  {
   "cell_type": "code",
   "execution_count": 1,
   "metadata": {},
   "outputs": [],
   "source": [
    "#========================================================================================================================#"
   ]
  },
  {
   "cell_type": "code",
   "execution_count": 2,
   "metadata": {},
   "outputs": [],
   "source": [
    "## matplotlib ## --> 데이터를 시각화 할 수 있도록 도와주는 라이브러리(그래프)\n",
    "              ##  -> 많은 양의 데이터를 다루는 인공지는 모델에서 데이터가 어떤 분포를 띄고있는지 알 수 있다"
   ]
  },
  {
   "cell_type": "code",
   "execution_count": 5,
   "metadata": {},
   "outputs": [
    {
     "data": {
      "image/png": "[encoded data removed]",
      "text/plain": [
       "<Figure size 432x288 with 1 Axes>"
      ]
     },
     "metadata": {
      "needs_background": "light"
     },
     "output_type": "display_data"
    },
    {
     "data": {
      "text/plain": [
       "<Figure size 432x288 with 0 Axes>"
      ]
     },
     "metadata": {},
     "output_type": "display_data"
    }
   ],
   "source": [
    "# 직선 그래프 그리기 \n",
    "\n",
    "import matplotlib.pyplot as plt\n",
    "\n",
    "x = [1, 2, 3]               # 데이터 준비\n",
    "y = [1, 2, 3]\n",
    "\n",
    "plt.plot(x, y)              # pyplot의 plot 함수 사용\n",
    "\n",
    "plt.title(\"y = x\")          # 그래프 이름 표시\n",
    "plt.xlabel(\"X\")             #  x 축 label 표시\n",
    "plt.ylabel(\"Y\")             #  y 축 label 표시\n",
    "\n",
    "plt.show()                  # 그래프 표시 \n",
    "\n",
    "plt.savefig('picture.png')  # 그래프를 이미지 파일로 저장"
   ]
  },
  {
   "cell_type": "code",
   "execution_count": 14,
   "metadata": {},
   "outputs": [
    {
     "data": {
      "image/png": "[encoded data removed]",
      "text/plain": [
       "<Figure size 432x288 with 1 Axes>"
      ]
     },
     "metadata": {
      "needs_background": "light"
     },
     "output_type": "display_data"
    }
   ],
   "source": [
    "# sin 함수 그리기 (넘파이 활용)\n",
    "\n",
    "import numpy as np\n",
    "import matplotlib.pyplot as plt\n",
    "\n",
    "x = np.arange(0, 6, 0.1)  # x는 0에서 5까지 0.1 간격으로 할당 : x = [0, 0.1, 0.2, ... 5.9, 5.9] \n",
    "y = np.sin(x)             # 넘파이 sin 함수 np.sin()을 x의 각 원소에 적용하여 이를 변수 y에 대입\n",
    "\n",
    "plt.plot(x, y)\n",
    "plt.show()"
   ]
  },
  {
   "cell_type": "code",
   "execution_count": 37,
   "metadata": {},
   "outputs": [
    {
     "data": {
      "image/png": "[encoded data removed]",
      "text/plain": [
       "<Figure size 432x288 with 1 Axes>"
      ]
     },
     "metadata": {
      "needs_background": "light"
     },
     "output_type": "display_data"
    }
   ],
   "source": [
    "# sin & cos 함수 그리기 \n",
    "\n",
    "import matplotlib.pyplot as plt\n",
    "import numpy as np\n",
    "\n",
    "x = np.arange(0, 6, 0.1) \n",
    "y1 = np.sin(x)\n",
    "y2 = np.cos(x)\n",
    "y3 = x * 0     # y축 기준선 표시\n",
    "\n",
    "plt.plot(x, y1, label = \"sin\")\n",
    "plt.plot(x, y2, label = \"cos\")\n",
    "plt.plot(x, y3, linestyle = \":\", color = \"gray\")\n",
    "\n",
    "plt.xlabel(\"X\")\n",
    "plt.ylabel(\"Y\")\n",
    "plt.legend()\n",
    "\n",
    "plt.show()"
   ]
  },
  {
   "cell_type": "code",
   "execution_count": 16,
   "metadata": {},
   "outputs": [
    {
     "data": {
      "image/png": "[encoded data removed]",
      "text/plain": [
       "<Figure size 432x288 with 1 Axes>"
      ]
     },
     "metadata": {
      "needs_background": "light"
     },
     "output_type": "display_data"
    }
   ],
   "source": [
    "# 포물선 그리기 \n",
    "\n",
    "import matplotlib.pyplot as plt\n",
    "import numpy as np \n",
    "\n",
    "x = np.arange(-9, 10)\n",
    "y = x ** 2   # y=x제곱 그래프 \n",
    "\n",
    "plt.plot(x, y)\n",
    "plt.show()"
   ]
  },
  {
   "cell_type": "code",
   "execution_count": 22,
   "metadata": {},
   "outputs": [
    {
     "data": {
      "image/png": "[encoded data removed]",
      "text/plain": [
       "<Figure size 432x288 with 1 Axes>"
      ]
     },
     "metadata": {
      "needs_background": "light"
     },
     "output_type": "display_data"
    }
   ],
   "source": [
    "# 포물선 그리기 --> 라인스타일, 마커 활용\n",
    "\n",
    "import matplotlib.pyplot as plt\n",
    "import numpy as np \n",
    "\n",
    "x = np.arange(-9, 10)\n",
    "y = x ** 2\n",
    "\n",
    "plt.plot(x, y, linestyle = \":\", marker = \"*\") # 라인스타일 종류: '-', ':', '--' 등이 존재\n",
    "                                              # 마커: x, y 교차점 표시 \n",
    "plt.show()"
   ]
  },
  {
   "cell_type": "code",
   "execution_count": 25,
   "metadata": {},
   "outputs": [
    {
     "data": {
      "image/png": "[encoded data removed]",
      "text/plain": [
       "<Figure size 432x288 with 1 Axes>"
      ]
     },
     "metadata": {
      "needs_background": "light"
     },
     "output_type": "display_data"
    }
   ],
   "source": [
    "# 2개의 그래프 표시 \n",
    "\n",
    "import matplotlib.pyplot as plt\n",
    "import numpy as np \n",
    "\n",
    "x = np.arange(-9, 10)\n",
    "y1 = x ** 2 \n",
    "y2 = -x \n",
    "\n",
    "plt.plot(x, y1, linestyle = \"-\", marker = \"*\", color = \"red\", label = \"y = x * x\")  # y = x 제곱 함수 \n",
    "plt.plot(x, y2, linestyle = \":\", marker = \"o\", color = \"blue\", label = \"y = -x\")    # y = -x 함수\n",
    "\n",
    "plt.xlabel(\"X\")\n",
    "plt.ylabel(\"Y\")\n",
    "\n",
    "plt.legend(shadow = True, borderpad = 1)  # legend: label에 대한 정보 표시, shadow: 음영 표시 유무, borderpad: 박스 형태\n",
    "plt.show()"
   ]
  },
  {
   "cell_type": "code",
   "execution_count": 26,
   "metadata": {},
   "outputs": [
    {
     "data": {
      "image/png": "[encoded data removed]",
      "text/plain": [
       "<Figure size 432x288 with 1 Axes>"
      ]
     },
     "metadata": {
      "needs_background": "light"
     },
     "output_type": "display_data"
    }
   ],
   "source": [
    "# 막대 그래프 그리기 --> bar 함수 사용\n",
    "\n",
    "import matplotlib.pyplot as plt\n",
    "import numpy as np \n",
    "\n",
    "x = np.arange(-9, 10)\n",
    "\n",
    "plt.bar(x, x ** 2)  # x 데이터: x, y 데이터: x제곱\n",
    "plt.show()"
   ]
  },
  {
   "cell_type": "code",
   "execution_count": 30,
   "metadata": {},
   "outputs": [
    {
     "data": {
      "image/png": "[encoded data removed]",
      "text/plain": [
       "<Figure size 432x288 with 1 Axes>"
      ]
     },
     "metadata": {
      "needs_background": "light"
     },
     "output_type": "display_data"
    }
   ],
   "source": [
    "# 스캐터 그래프 그리기 --> scatter 함수 사용 \n",
    "\n",
    "import matplotlib.pyplot as plt\n",
    "import numpy as np\n",
    "\n",
    "x = np.random.rand(10)  # x 축 데이터 생성\n",
    "y = np.random.rand(10)  # y 축 데이터 생성\n",
    "\n",
    "colors = np.random.randint(0, 100, 10)\n",
    "sizes = np.pi * 1000 * np.random.rand(10)\n",
    "\n",
    "plt.scatter(x, y, c = colors, s = sizes, alpha = 0.7)\n",
    "plt.show()"
   ]
  },
  {
   "cell_type": "code",
   "execution_count": null,
   "metadata": {},
   "outputs": [],
   "source": []
  }
 ],
 "metadata": {
  "kernelspec": {
   "display_name": "Python 3",
   "language": "python",
   "name": "python3"
  },
  "language_info": {
   "codemirror_mode": {
    "name": "ipython",
    "version": 3
   },
   "file_extension": ".py",
   "mimetype": "text/x-python",
   "name": "python",
   "nbconvert_exporter": "python",
   "pygments_lexer": "ipython3",
   "version": "3.8.5"
  }
 },
 "nbformat": 4,
 "nbformat_minor": 4
}
